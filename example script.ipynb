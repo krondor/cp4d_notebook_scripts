{
 "cells": [
  {
   "cell_type": "markdown",
   "metadata": {
    "id": "ea9fea67-c572-4d69-a545-b75459dfec3b"
   },
   "source": [
    "# Example Script Inclusion Notebook"
   ]
  },
  {
   "cell_type": "markdown",
   "metadata": {
    "id": "5224973c-d8ff-4054-8dab-11956968f253"
   },
   "source": [
    "## The script\n",
    "The script we are including in these examples is very simple.  One function definition and one variable in the main class.\n",
    "\n",
    "```\n",
    "def ultimate_answer(question):\n",
    "  if question != \"What is the meaning of life, the universe, everything?\":\n",
    "    print(\"You need a better question.\")\n",
    "  else:\n",
    "    return(\"42\")\n",
    "\n",
    "question = \"What is the meaning of life, the universe, everything?\"\n",
    "```"
   ]
  },
  {
   "cell_type": "markdown",
   "metadata": {
    "id": "1542865e-6f3a-41d6-a5c7-93f4769e7069"
   },
   "source": [
    "## Jupyterlab Example"
   ]
  },
  {
   "cell_type": "markdown",
   "metadata": {
    "id": "c60861a1-4519-4fb9-bb12-2a28f92e47a3"
   },
   "source": [
    "### Jupyterlab Script File Reference"
   ]
  },
  {
   "cell_type": "markdown",
   "metadata": {
    "id": "2c45852f-6d7c-43b8-8770-98a99037e445"
   },
   "source": [
    "Jupyterlab IDE with Git Integration can present a .py script and edit them in the same path.  This path is persisted to git and accessible across environments.  \n",
    "\n",
    "The path would be something like below where $PROJECTNAME$ is replaced with the project name from Cloud Pak for Data;\n",
    "\n",
    "    /home/wsuser/work/project_git_repo/$PROJECTNAME/assets/jupyter"
   ]
  },
  {
   "cell_type": "markdown",
   "metadata": {
    "id": "5dc23001-515e-47a5-b902-a682407c13f7"
   },
   "source": [
    "The script file placed in that directory is simply referenced by it's name **without** the .py extension.  Example directory output;"
   ]
  },
  {
   "cell_type": "code",
   "execution_count": 20,
   "metadata": {
    "id": "3aab2a5b-473f-4e86-a716-4dc25c2be9f1"
   },
   "outputs": [
    {
     "name": "stdout",
     "output_type": "stream",
     "text": [
      "example_script.ipynb  script.py\r\n"
     ]
    }
   ],
   "source": [
    "!ls"
   ]
  },
  {
   "cell_type": "markdown",
   "metadata": {
    "id": "eef4f742-898a-4f43-b6cf-3aa7fea2c3f5"
   },
   "source": [
    "### Including the Script\n",
    "To import the script simply name it without the .py in the existing directory.  "
   ]
  },
  {
   "cell_type": "markdown",
   "metadata": {
    "id": "d281c062-8124-4438-9bdd-65dd6f68085e"
   },
   "source": [
    "#### Example with a specific function"
   ]
  },
  {
   "cell_type": "code",
   "execution_count": 1,
   "metadata": {
    "id": "883acdec-acdb-438c-8f0c-2677b13dba32"
   },
   "outputs": [],
   "source": [
    "from script import ultimate_answer"
   ]
  },
  {
   "cell_type": "code",
   "execution_count": 2,
   "metadata": {
    "id": "6b72bb42-077c-4aad-bd42-006f8b2bfffa"
   },
   "outputs": [
    {
     "name": "stdout",
     "output_type": "stream",
     "text": [
      "You need a better question.\n"
     ]
    }
   ],
   "source": [
    "ultimate_answer(\"what is the meaning of life?\")"
   ]
  },
  {
   "cell_type": "markdown",
   "metadata": {
    "id": "98f7fc2b-259a-4d00-b8e1-a89b6ef5d866"
   },
   "source": [
    "#### Example with the entire script"
   ]
  },
  {
   "cell_type": "code",
   "execution_count": 3,
   "metadata": {
    "id": "1cfacf98-eca7-47d7-85e9-bdc2a4d9b1f3"
   },
   "outputs": [],
   "source": [
    "import script"
   ]
  },
  {
   "cell_type": "code",
   "execution_count": 4,
   "metadata": {
    "id": "f36a0a0a-4aa8-4cf2-adef-c31700a585a6"
   },
   "outputs": [
    {
     "name": "stdout",
     "output_type": "stream",
     "text": [
      "What is the meaning of life, the universe, everything?\n"
     ]
    }
   ],
   "source": [
    "print(script.question)"
   ]
  },
  {
   "cell_type": "code",
   "execution_count": 5,
   "metadata": {
    "id": "ba678632-3326-4f16-b9b1-029537a8414f"
   },
   "outputs": [
    {
     "name": "stdout",
     "output_type": "stream",
     "text": [
      "42\n"
     ]
    }
   ],
   "source": [
    "ultimate_answer(script.question)"
   ]
  },
  {
   "cell_type": "markdown",
   "metadata": {
    "id": "34b66cb9-d4da-4fc4-ad96-3f31e4f17efc"
   },
   "source": [
    "## Jupyter Notebook Example"
   ]
  },
  {
   "cell_type": "markdown",
   "metadata": {
    "id": "d0b72a8b-3d05-46e9-ae2a-8f0e7bc17d7d"
   },
   "source": [
    "### Jupyter Notebook Script File Reference\n",
    "Unlike Jupyterlab with Git, Jupyter Notebooks local data directories are ephemeral and destroyed after the environment is closed.  You can see the current working directory here;"
   ]
  },
  {
   "cell_type": "markdown",
   "metadata": {},
   "source": [
    "#### Jupyter Notebook Workding Directory (Deleted on Environment Shutdown)"
   ]
  },
  {
   "cell_type": "code",
   "execution_count": 1,
   "metadata": {
    "id": "455fdf5d9f5c4a4f8461d3e8ae656a3e"
   },
   "outputs": [
    {
     "name": "stdout",
     "output_type": "stream",
     "text": [
      "/home/wsuser/work\r\n"
     ]
    }
   ],
   "source": [
    "!pwd"
   ]
  },
  {
   "cell_type": "markdown",
   "metadata": {},
   "source": [
    "As a result, script files you place in that folder will disappear when the environment is shut down.  Our documentation says to create a local script from an uploaded copy in the project data assets.  \n",
    "I would rather just improt the script from the data assets folder directly.  You can browse the data assets folder here, and also this will remain persistant across environments.  "
   ]
  },
  {
   "cell_type": "markdown",
   "metadata": {
    "id": "e92ae899ab1a426dacd07b0717221bb0"
   },
   "source": [
    "#### Project Data Assets"
   ]
  },
  {
   "cell_type": "code",
   "execution_count": 18,
   "metadata": {
    "id": "eb5ec8f295204b139dcbb64144c2d24d",
    "scrolled": true
   },
   "outputs": [
    {
     "name": "stdout",
     "output_type": "stream",
     "text": [
      "__pycache__  script.py\r\n"
     ]
    }
   ],
   "source": [
    "!ls /project_data/data_asset/"
   ]
  },
  {
   "cell_type": "markdown",
   "metadata": {},
   "source": [
    "You cannot simply reference a script above the working directory though without it being included in the python path.  \n",
    "Let's use the **sys** library to append the data assets directory to the path and then import our script.  "
   ]
  },
  {
   "cell_type": "markdown",
   "metadata": {},
   "source": [
    "#### Add Project Data to the Search Path for Python"
   ]
  },
  {
   "cell_type": "code",
   "execution_count": null,
   "metadata": {
    "id": "ab6edd5e-f008-4d73-b1ff-e875fb13b3f8"
   },
   "outputs": [],
   "source": [
    "import sys  \n",
    "sys.path.append('/project_data/data_asset/')  "
   ]
  },
  {
   "cell_type": "markdown",
   "metadata": {},
   "source": [
    "#### Example with a Specific Function"
   ]
  },
  {
   "cell_type": "code",
   "execution_count": 13,
   "metadata": {
    "id": "ab6edd5e-f008-4d73-b1ff-e875fb13b3f8"
   },
   "outputs": [],
   "source": [
    "from script import ultimate_answer #scriptName without .py extension  "
   ]
  },
  {
   "cell_type": "code",
   "execution_count": 14,
   "metadata": {
    "id": "9212b3e4f60d46558d6804b201e3454c",
    "scrolled": true
   },
   "outputs": [
    {
     "name": "stdout",
     "output_type": "stream",
     "text": [
      "You need a better question.\n"
     ]
    }
   ],
   "source": [
    "ultimate_answer(\"what is the meaning of life?\")"
   ]
  },
  {
   "cell_type": "markdown",
   "metadata": {},
   "source": [
    "#### Example with the entire script"
   ]
  },
  {
   "cell_type": "code",
   "execution_count": 15,
   "metadata": {
    "id": "66f46b3ddb27481f8698c2d4f9c9ef32"
   },
   "outputs": [],
   "source": [
    "import script"
   ]
  },
  {
   "cell_type": "code",
   "execution_count": 16,
   "metadata": {
    "id": "18c3bc3d99ce458a80e50f3c54ad37b1"
   },
   "outputs": [
    {
     "name": "stdout",
     "output_type": "stream",
     "text": [
      "What is the meaning of life, the universe, everything?\n"
     ]
    }
   ],
   "source": [
    "print(script.question)"
   ]
  },
  {
   "cell_type": "code",
   "execution_count": 17,
   "metadata": {
    "id": "5cbc5425dc3d446c8444b3858b700c92"
   },
   "outputs": [
    {
     "name": "stdout",
     "output_type": "stream",
     "text": [
      "42\n"
     ]
    }
   ],
   "source": [
    "ultimate_answer(script.question)"
   ]
  }
 ],
 "metadata": {
  "kernelspec": {
   "display_name": "Python 3.7",
   "language": "python",
   "name": "python3"
  },
  "language_info": {
   "codemirror_mode": {
    "name": "ipython",
    "version": 3
   },
   "file_extension": ".py",
   "mimetype": "text/x-python",
   "name": "python",
   "nbconvert_exporter": "python",
   "pygments_lexer": "ipython3",
   "version": "3.7.9"
  }
 },
 "nbformat": 4,
 "nbformat_minor": 4
}
